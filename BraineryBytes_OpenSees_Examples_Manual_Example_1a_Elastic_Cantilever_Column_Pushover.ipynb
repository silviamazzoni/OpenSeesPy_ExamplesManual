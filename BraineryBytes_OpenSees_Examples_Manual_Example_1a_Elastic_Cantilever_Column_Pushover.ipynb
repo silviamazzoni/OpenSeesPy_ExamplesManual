{
 "cells": [
  {
   "cell_type": "markdown",
   "metadata": {},
   "source": [
    "<h1> OpenSees Examples Manual Examples for OpenSeesPy</h1>\n",
    "<h2>OpenSees Example 1a. 2D Elastic Cantilever Column -- Static Pushover</h2>\n",
    "<p>\n",
    "\n",
    "You can find the original Examples:<br>\n",
    "https://opensees.berkeley.edu/wiki/index.php/Examples_Manual<br>\n",
    "Original Examples by By Silvia Mazzoni & Frank McKenna, 2006, in Tcl<br>\n",
    "Converted to OpenSeesPy by SilviaMazzoni, 2020<br>\n",
    "<p>\n",
    "\n",
    "<h2> Simulation Process</h2>\n",
    "\n",
    "Each example script does the following:\n",
    "<h3>A. Build the model</h3>\n",
    "<ol>\n",
    "    <li>model dimensions and degrees-of-freedom</li>\n",
    "    <li>nodal coordinates</li>\n",
    "    <li>nodal constraints -- boundary conditions</li>\n",
    "    <li>nodal masses</li>\n",
    "    <li>elements and element connectivity</li>\n",
    "    <li>recorders for output</li>\n",
    "</ol>\n",
    "<h3>B. Define & apply gravity load</h3>\n",
    "<ol>\n",
    "    <li>nodal or element load</li>\n",
    "    <li>static-analysis parameters (tolerances & load increments)</li>\n",
    "    <li>analyze</li>\n",
    "    <li>hold gravity loads constant</li>\n",
    "    <li>reset time to zero</li>\n",
    "</ol>\n",
    "<h3>C. Define and apply lateral load</h3>\n",
    "<dl>\n",
    "<li>Time Series and Load Pattern (nodal loads for static analysis, support ground motion for earthquake)</li>\n",
    "<li>lateral-analysis parameters (tolerances and displacement/time increments)</li>\n",
    "<b>Static Lateral-Load Analysis</b>\n",
    "<li>define the displacement increments and displacement path</li>\n",
    "<b>Dynamic Lateral-Load Analysis</b>\n",
    "<li>define the input motion and all associated parameters, such as scaling and input type</li>\n",
    "<li>define analysis duration and time increment</li>\n",
    "<li>define damping</li>\n",
    "<li>analyze</li>\n",
    "<p>\n",
    "\n",
    "<b>Introductory Examples</b>\n",
    "The objective of Example 1a and Example 1b is to give an overview of input-file format in OpenSees using simple scripts.\n",
    "These scripts do not take advantage of the Tcl scripting capabilities shown in the later examples. However, they do provide starting a place where the input file is similar to that of more familiar Finite-Element Analysis software. Subsequent examples should be used as the basis for user input files.\n",
    "    "
   ]
  },
  {
   "cell_type": "markdown",
   "metadata": {},
   "source": [
    "<h1> OpenSees Example 1a. 2D Elastic Cantilever Column -- Static Pushover</h1>\n",
    "Introduction\n",
    "Example 1a is a simple model of an elastic cantilever column. \n",
    "    <b> Objectives of Example 1b </b>\n",
    "    - overview of basic OpenSees input structure<br>\n",
    "    - coordinates, boundary conditions, element connectivity, nodal masses, nodal loads, etc.<br>\n",
    "    - two-node, one element\n",
    "<img src=\"https://opensees.berkeley.edu/wiki/images/e/ec/Example1a_Push.GIF\">\n"
   ]
  },
  {
   "cell_type": "code",
   "execution_count": 1,
   "metadata": {},
   "outputs": [
    {
     "name": "stdout",
     "output_type": "stream",
     "text": [
      "Done!\n"
     ]
    }
   ],
   "source": [
    "############################################################\n",
    "#  EXAMPLE: \n",
    "#       pyEx1a.Canti2D.Push.tcl.py\n",
    "#          for OpenSeesPy\n",
    "#  --------------------------------------------------------#\n",
    "#  by: Silvia Mazzoni, 2020\n",
    "#       silviamazzoni@yahoo.com\n",
    "############################################################\n",
    "# This file was obtained from a conversion of the updated Tcl script\n",
    "############################################################\n",
    "\n",
    "# configure Python workspace\n",
    "import openseespy.opensees as ops\n",
    "import eSEESminiPy\n",
    "import os\n",
    "import math\n",
    "import numpy as numpy\n",
    "import matplotlib.pyplot as plt\n",
    "ops.wipe()\n",
    "# --------------------------------------------------------------------------------------------------\n",
    "# Example 1. cantilever 2D\n",
    "# static pushover analysis with gravity.\n",
    "# all units are in kip, inch, second\n",
    "# elasticBeamColumn ELEMENT\n",
    "# Silvia Mazzoni and Frank McKenna, 2006\n",
    "#\n",
    "# ^Y\n",
    "# or\n",
    "# 2 __\n",
    "# or  |\n",
    "# or  |\n",
    "# or  |\n",
    "# (1) 36'\n",
    "# or  |\n",
    "# or  |\n",
    "# or  |\n",
    "# =1= ---- -------->X\n",
    "#\n",
    "\n",
    "# SET UP ----------------------------------------------------------------------------\n",
    "ops.wipe()     #  clear opensees model\n",
    "ops.model('basic','-ndm',2,'-ndf',3)     #  2 dimensions, 3 dof per node\n",
    "if not os.path.exists('Data'):\n",
    "    os.mkdir('Data')\n",
    "\n",
    "# define GEOMETRY -------------------------------------------------------------\n",
    "# nodal coordinates:\n",
    "ops.node(1,0,0)     #  node , X Y\n",
    "ops.node(2,0,432)\n",
    "\n",
    "# Single point constraints -- Boundary Conditions\n",
    "ops.fix(1,1,1,1)     #  node DX DY RZ\n",
    "\n",
    "# nodal masses:\n",
    "ops.mass(2,5.18,0.,0.)     #  node , Mx My Mz, Mass=Weight/g.\n",
    "\n",
    "# Define ELEMENTS -------------------------------------------------------------\n",
    "# define geometric transformation: performs a linear geometric transformation of beam stiffness\n",
    "# and resisting force from the basic system to the global-coordinate system\n",
    "ops.geomTransf('Linear',1)     #  associate a tag to transformation\n",
    "\n",
    "# connectivity: (make A very large, 10e6 times its actual value)\n",
    "# element elasticBeamColumn eleTag iNode jNode A E Iz transfTag\n",
    "ops.element('elasticBeamColumn',1,1,2,3600000000,4227,1080000,1)     # element elasticBeamColumn 1 1 2 3600000000 4227 1080000 1;\n",
    "\n",
    "# Define RECORDERS -------------------------------------------------------------\n",
    "ops.recorder('Node','-file','Data/DFreeEx1aPush.out','-time','-node',2,'-dof',1,2,3,'disp')     #  displacements of free nodes\n",
    "ops.recorder('Node','-file','Data/DBaseEx1aPush.out','-time','-node',1,'-dof',1,2,3,'disp')     #  displacements of support nodes\n",
    "ops.recorder('Node','-file','Data/RBaseEx1aPush.out','-time','-node',1,'-dof',1,2,3,'reaction')     #  support reaction\n",
    "ops.recorder('Element','-file','Data/FColEx1aPush.out','-time','-ele',1,'globalForce')     #  element forces -- column\n",
    "ops.recorder('Element','-file','Data/DColEx1aPush.out','-time','-ele',1,'deformation')     #  element deformations -- column\n",
    "\n",
    "# define GRAVITY -------------------------------------------------------------\n",
    "ops.timeSeries('Linear',1)     # timeSeries Linear 1;\n",
    "# define Load Pattern\n",
    "ops.pattern('Plain',1,1) # \n",
    "ops.load(2,0.,-2000.,0.)     #  node , FX FY MZ -- superstructure-weight\n",
    "\n",
    "ops.wipeAnalysis()     # adding this to clear Analysis module \n",
    "ops.constraints('Plain')     #  how it handles boundary conditions\n",
    "ops.numberer('Plain')     #  renumber dofs to minimize band-width (optimization), if you want to\n",
    "ops.system('BandGeneral')     #  how to store and solve the system of equations in the analysis\n",
    "ops.test('NormDispIncr',1.0e-8,6)     #  determine if convergence has been achieved at the end of an iteration step\n",
    "ops.algorithm('Newton')     #  use Newtons solution algorithm: updates tangent stiffness at every iteration\n",
    "ops.integrator('LoadControl',0.1)     #  determine the next time step for an analysis,   apply gravity in 10 steps\n",
    "ops.analysis('Static')     #  define type of analysis static or transient\n",
    "ops.analyze(10)     #  perform gravity analysis\n",
    "ops.loadConst('-time',0.0)     #  hold gravity constant and restart time\n",
    "\n",
    "# define LATERAL load -------------------------------------------------------------\n",
    "# Lateral load pattern\n",
    "ops.timeSeries('Linear',2)     # timeSeries Linear 2;\n",
    "# define Load Pattern\n",
    "ops.pattern('Plain',2,2) # \n",
    "ops.load(2,2000.,0.0,0.0)     #  node , FX FY MZ -- representative lateral load at top node\n",
    "\n",
    "\n",
    "# pushover: diplacement controlled static analysis\n",
    "ops.integrator('DisplacementControl',2,1,0.1)     #  switch to displacement control, for node 11, dof 1, 0.1 increment\n",
    "ops.analyze(1000)     #  apply 100 steps of pushover analysis to a displacement of 10\n",
    "\n",
    "print('Done!')\n"
   ]
  },
  {
   "cell_type": "code",
   "execution_count": 2,
   "metadata": {},
   "outputs": [
    {
     "data": {
      "image/png": "[encoded data removed]",
      "text/plain": [
       "<Figure size 432x288 with 1 Axes>"
      ]
     },
     "metadata": {
      "needs_background": "light"
     },
     "output_type": "display_data"
    }
   ],
   "source": [
    "eSEESminiPy.drawModel()\n"
   ]
  },
  {
   "cell_type": "code",
   "execution_count": 3,
   "metadata": {},
   "outputs": [
    {
     "data": {
      "image/png": "[encoded data removed]",
      "text/plain": [
       "<Figure size 432x288 with 1 Axes>"
      ]
     },
     "metadata": {
      "needs_background": "light"
     },
     "output_type": "display_data"
    }
   ],
   "source": [
    "# plot deformed shape at end of analysis (it may have returned to rest)\n",
    "# amplify the deformtions by 5\n",
    "eSEESminiPy.drawDeformedShape(5)"
   ]
  },
  {
   "cell_type": "code",
   "execution_count": 4,
   "metadata": {},
   "outputs": [
    {
     "data": {
      "image/png": "[encoded data removed]",
      "text/plain": [
       "<Figure size 432x288 with 2 Axes>"
      ]
     },
     "metadata": {
      "needs_background": "light"
     },
     "output_type": "display_data"
    },
    {
     "name": "stdout",
     "output_type": "stream",
     "text": [
      "End of Run: pyEx1a.Canti2D.Push.tcl.py\n"
     ]
    }
   ],
   "source": [
    "ops.wipe() # the wipe command here closes all recorder files\n",
    "plt.close('all')\n",
    "fname3 = 'Data/DFreeEx1aPush.out'\n",
    "dataDFree = numpy.loadtxt(fname3)\n",
    "plt.subplot(211)\n",
    "plt.title('Ex1a.Canti2D.Push.tcl')\n",
    "plt.grid(True)\n",
    "plt.plot(dataDFree[:,1])\n",
    "plt.xlabel('Step Number')\n",
    "plt.ylabel('Free-Node Displacement')\n",
    "plt.subplot(212)\n",
    "plt.grid(True)\n",
    "plt.plot(dataDFree[:,1],dataDFree[:,0])\n",
    "plt.xlabel('Free-Node Disp.')\n",
    "plt.ylabel('Pseudo-Time (~Force)')\n",
    "plt.show()\n",
    "print('End of Run: pyEx1a.Canti2D.Push.tcl.py')\n"
   ]
  },
  {
   "cell_type": "code",
   "execution_count": null,
   "metadata": {},
   "outputs": [],
   "source": []
  }
 ],
 "metadata": {
  "kernelspec": {
   "display_name": "Python 3",
   "language": "python",
   "name": "python3"
  },
  "language_info": {
   "codemirror_mode": {
    "name": "ipython",
    "version": 3
   },
   "file_extension": ".py",
   "mimetype": "text/x-python",
   "name": "python",
   "nbconvert_exporter": "python",
   "pygments_lexer": "ipython3",
   "version": "3.8.3"
  }
 },
 "nbformat": 4,
 "nbformat_minor": 4
}
